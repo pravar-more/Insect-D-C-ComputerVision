{
  "nbformat": 4,
  "nbformat_minor": 0,
  "metadata": {
    "colab": {
      "name": "augment",
      "provenance": [],
      "collapsed_sections": [],
      "authorship_tag": "ABX9TyNcxu+HBJmI/XT46EDBVKCs",
      "include_colab_link": true
    },
    "kernelspec": {
      "name": "python3",
      "display_name": "Python 3"
    },
    "language_info": {
      "name": "python"
    }
  },
  "cells": [
    {
      "cell_type": "markdown",
      "metadata": {
        "id": "view-in-github",
        "colab_type": "text"
      },
      "source": [
        "<a href=\"https://colab.research.google.com/github/pravar-more/Insect-D-C-ComputerVision/blob/main/augment.ipynb\" target=\"_parent\"><img src=\"https://colab.research.google.com/assets/colab-badge.svg\" alt=\"Open In Colab\"/></a>"
      ]
    },
    {
      "cell_type": "code",
      "source": [
        "from tensorflow.keras import layers\n",
        "import matplotlib.pyplot as plt\n",
        "import numpy as np\n",
        "import tensorflow as tf\n",
        "import tensorflow_datasets as tfds"
      ],
      "metadata": {
        "id": "YYJt9ncwrAjr"
      },
      "execution_count": 1,
      "outputs": []
    },
    {
      "cell_type": "markdown",
      "source": [
        "https://www.tensorflow.org/tutorials/images/data_augmentation\n",
        "\n",
        "https://pyimagesearch.com/2021/06/28/data-augmentation-with-tf-data-and-tensorflow/\n",
        "\n",
        "https://blog.paperspace.com/data-augmentation-bounding-boxes-scaling-translation/\n",
        "\n",
        "\n",
        "https://towardsdatascience.com/image-augmentations-in-tensorflow-62967f59239d\n"
      ],
      "metadata": {
        "id": "6OYJdsrAt7Ny"
      }
    },
    {
      "cell_type": "code",
      "execution_count": 2,
      "metadata": {
        "colab": {
          "base_uri": "https://localhost:8080/",
          "height": 131
        },
        "id": "iBq5zs9J6JFH",
        "outputId": "cddc84f8-9499-4401-bed4-dbd9598cc3ca"
      },
      "outputs": [
        {
          "output_type": "error",
          "ename": "IndentationError",
          "evalue": "ignored",
          "traceback": [
            "\u001b[0;36m  File \u001b[0;32m\"<ipython-input-2-4087c2823511>\"\u001b[0;36m, line \u001b[0;32m12\u001b[0m\n\u001b[0;31m    if  tf.random.uniform([]) < p:\u001b[0m\n\u001b[0m     ^\u001b[0m\n\u001b[0;31mIndentationError\u001b[0m\u001b[0;31m:\u001b[0m expected an indented block\n"
          ]
        }
      ],
      "source": [
        "def random_invert_img(x, p=0.5):\n",
        "  if  tf.random.uniform([]) < p:\n",
        "    x = (255-x)\n",
        "  else:\n",
        "    x\n",
        "  return x\n",
        "\n",
        "def augment(image, label):\n",
        "  image = tf.cast(image, tf.float32)         \n",
        "  scale_x = random.uniform(*self.scale)\n",
        "  scale_y = random.uniform(*self.scale)\n",
        "  fx = 1 + scale_x\n",
        "  fy = 1 + scale_y\n",
        "\n",
        "  img=  cv2.resize(img, None, fx, fy)\n",
        "  bboxes[:,:4] *= [resize_scale_x, resize_scale_y, resize_scale_x, resize_scale_y]\n",
        "\n",
        "\n",
        "  random_invert = layers.Lambda(lambda x: random_invert_img(x, ,0.5))\n",
        "\n",
        "  plt.figure(figsize=(10, 10))\n",
        "  for i in range(9):\n",
        "    augmented_image = random_invert(image)\n",
        "    ax = plt.subplot(3, 3, i + 1)\n",
        "    plt.imshow(augmented_image[0].numpy().astype(\"uint8\"))\n",
        "    plt.axis(\"off\")\n",
        "\n",
        "  #image = tf.image.resize(image, [IMG_SIZE, IMG_SIZE])\n",
        "  image = (image / 255.0)\n",
        "  image = tf.image.random_crop(image, size=[IMG_SIZE, IMG_SIZE, 3])\n",
        "  image = tf.image.random_brightness(image, max_delta=0.5)\n",
        "  return image, label\n",
        "\n",
        "\n",
        "\n",
        "  https://github.com/tensorflow/models/blob/52bb4ab1d8dd42f033762b698a8acffc1b639387/research/object_detection/protos/preprocessor.proto"
      ]
    }
  ]
}